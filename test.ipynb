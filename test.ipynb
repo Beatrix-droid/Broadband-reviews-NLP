{
 "cells": [
  {
   "cell_type": "code",
   "execution_count": 1,
   "metadata": {},
   "outputs": [],
   "source": [
    "import pandas as pd\n",
    "import re"
   ]
  },
  {
   "cell_type": "code",
   "execution_count": 2,
   "metadata": {},
   "outputs": [],
   "source": [
    "#first let's take a look at a general trend in the average score of reviews over time:\n",
    "df=pd.read_csv(\"./data/preprocessed_data.csv\")\n",
    "\n",
    "#convert the dates into datetime:\n",
    "df[\"Dates\"]= pd.to_datetime(df[\"Dates\"])"
   ]
  },
  {
   "cell_type": "code",
   "execution_count": 3,
   "metadata": {},
   "outputs": [],
   "source": [
    "df.drop([\"Dates\", \"Unnamed: 0\"], axis=1, inplace=True)"
   ]
  },
  {
   "cell_type": "code",
   "execution_count": 4,
   "metadata": {},
   "outputs": [],
   "source": [
    "import re #to filter symbols out\n",
    "from gensim.parsing.preprocessing import remove_stopwords #to remove common words\n",
    "from nltk.stem import WordNetLemmatizer\n",
    "from textblob import TextBlob\n",
    "\n",
    "lemmatizer = WordNetLemmatizer()\n",
    "\n",
    "REPLACE_BY_SPACE_RE = re.compile('[/(){}\\[\\]\\|@,;]')\n",
    "remove_chars=re.compile('/[!@#$%^&*]/g')\n",
    "def clean_text(text: str) -> str:\n",
    "    \"\"\"\n",
    "        text: a string\n",
    "        \n",
    "        return: modified initial string with non ascii characters, other special characters and stop words removed.\n",
    "        Words are also converted to lower case and lemmatized.\n",
    "    \"\"\"\n",
    "    text = text.lower() # lowercase text\n",
    "    text = REPLACE_BY_SPACE_RE.sub(' ', text) # replace REPLACE_BY_SPACE_RE symbols by space in text. substitute the matched string in REPLACE_BY_SPACE_RE with space.\n",
    "    text=remove_chars.sub(\" \", text)\n",
    "    text = remove_stopwords(text)\n",
    "    lemmatizer.lemmatize(\"rocks\")\n",
    "    return text"
   ]
  },
  {
   "cell_type": "code",
   "execution_count": 5,
   "metadata": {},
   "outputs": [],
   "source": [
    "df['Comments'] = df['Comments'].apply(clean_text)"
   ]
  },
  {
   "cell_type": "code",
   "execution_count": 6,
   "metadata": {},
   "outputs": [],
   "source": [
    "def remove_non_ascii(string: str) -> str:\n",
    "    return ''.join(char for char in string if ord(char) < 128)"
   ]
  },
  {
   "cell_type": "code",
   "execution_count": 7,
   "metadata": {},
   "outputs": [],
   "source": [
    "df['Comments'] = df['Comments'].apply(remove_non_ascii)"
   ]
  },
  {
   "cell_type": "code",
   "execution_count": 8,
   "metadata": {},
   "outputs": [
    {
     "data": {
      "text/html": [
       "<div>\n",
       "<style scoped>\n",
       "    .dataframe tbody tr th:only-of-type {\n",
       "        vertical-align: middle;\n",
       "    }\n",
       "\n",
       "    .dataframe tbody tr th {\n",
       "        vertical-align: top;\n",
       "    }\n",
       "\n",
       "    .dataframe thead th {\n",
       "        text-align: right;\n",
       "    }\n",
       "</style>\n",
       "<table border=\"1\" class=\"dataframe\">\n",
       "  <thead>\n",
       "    <tr style=\"text-align: right;\">\n",
       "      <th></th>\n",
       "      <th>Comments</th>\n",
       "      <th>Customer Service</th>\n",
       "      <th>Satisfaction Reviews</th>\n",
       "      <th>Speed Reviews</th>\n",
       "      <th>Reliability Reviews</th>\n",
       "      <th>Average Score</th>\n",
       "    </tr>\n",
       "  </thead>\n",
       "  <tbody>\n",
       "    <tr>\n",
       "      <th>0</th>\n",
       "      <td>moved uk end august got virgin media broadband...</td>\n",
       "      <td>1.0</td>\n",
       "      <td>1.0</td>\n",
       "      <td>1.0</td>\n",
       "      <td>1.0</td>\n",
       "      <td>1.00</td>\n",
       "    </tr>\n",
       "    <tr>\n",
       "      <th>1</th>\n",
       "      <td>truly attrocious service terms broadband custo...</td>\n",
       "      <td>1.0</td>\n",
       "      <td>1.0</td>\n",
       "      <td>1.0</td>\n",
       "      <td>1.0</td>\n",
       "      <td>1.00</td>\n",
       "    </tr>\n",
       "    <tr>\n",
       "      <th>2</th>\n",
       "      <td>hard cancel contract. phone 2 hours t o spend ...</td>\n",
       "      <td>1.0</td>\n",
       "      <td>1.0</td>\n",
       "      <td>2.0</td>\n",
       "      <td>2.0</td>\n",
       "      <td>1.50</td>\n",
       "    </tr>\n",
       "    <tr>\n",
       "      <th>3</th>\n",
       "      <td>pay 350mbps package managed 250mbps upload 34 ...</td>\n",
       "      <td>1.0</td>\n",
       "      <td>1.0</td>\n",
       "      <td>3.0</td>\n",
       "      <td>2.0</td>\n",
       "      <td>1.75</td>\n",
       "    </tr>\n",
       "    <tr>\n",
       "      <th>4</th>\n",
       "      <td>worst customer service: -the bots ask irreleva...</td>\n",
       "      <td>1.0</td>\n",
       "      <td>1.0</td>\n",
       "      <td>3.0</td>\n",
       "      <td>2.0</td>\n",
       "      <td>1.75</td>\n",
       "    </tr>\n",
       "  </tbody>\n",
       "</table>\n",
       "</div>"
      ],
      "text/plain": [
       "                                            Comments  Customer Service  \\\n",
       "0  moved uk end august got virgin media broadband...               1.0   \n",
       "1  truly attrocious service terms broadband custo...               1.0   \n",
       "2  hard cancel contract. phone 2 hours t o spend ...               1.0   \n",
       "3  pay 350mbps package managed 250mbps upload 34 ...               1.0   \n",
       "4  worst customer service: -the bots ask irreleva...               1.0   \n",
       "\n",
       "   Satisfaction Reviews  Speed Reviews  Reliability Reviews  Average Score  \n",
       "0                   1.0            1.0                  1.0           1.00  \n",
       "1                   1.0            1.0                  1.0           1.00  \n",
       "2                   1.0            2.0                  2.0           1.50  \n",
       "3                   1.0            3.0                  2.0           1.75  \n",
       "4                   1.0            3.0                  2.0           1.75  "
      ]
     },
     "execution_count": 8,
     "metadata": {},
     "output_type": "execute_result"
    }
   ],
   "source": [
    "df.head()"
   ]
  },
  {
   "cell_type": "code",
   "execution_count": 9,
   "metadata": {},
   "outputs": [
    {
     "data": {
      "text/html": [
       "<div>\n",
       "<style scoped>\n",
       "    .dataframe tbody tr th:only-of-type {\n",
       "        vertical-align: middle;\n",
       "    }\n",
       "\n",
       "    .dataframe tbody tr th {\n",
       "        vertical-align: top;\n",
       "    }\n",
       "\n",
       "    .dataframe thead th {\n",
       "        text-align: right;\n",
       "    }\n",
       "</style>\n",
       "<table border=\"1\" class=\"dataframe\">\n",
       "  <thead>\n",
       "    <tr style=\"text-align: right;\">\n",
       "      <th></th>\n",
       "      <th>Comments</th>\n",
       "      <th>Average Score</th>\n",
       "    </tr>\n",
       "  </thead>\n",
       "  <tbody>\n",
       "    <tr>\n",
       "      <th>0</th>\n",
       "      <td>moved uk end august got virgin media broadband...</td>\n",
       "      <td>1.0</td>\n",
       "    </tr>\n",
       "    <tr>\n",
       "      <th>1</th>\n",
       "      <td>truly attrocious service terms broadband custo...</td>\n",
       "      <td>1.0</td>\n",
       "    </tr>\n",
       "    <tr>\n",
       "      <th>2</th>\n",
       "      <td>hard cancel contract. phone 2 hours t o spend ...</td>\n",
       "      <td>2.0</td>\n",
       "    </tr>\n",
       "    <tr>\n",
       "      <th>3</th>\n",
       "      <td>pay 350mbps package managed 250mbps upload 34 ...</td>\n",
       "      <td>2.0</td>\n",
       "    </tr>\n",
       "    <tr>\n",
       "      <th>4</th>\n",
       "      <td>worst customer service: -the bots ask irreleva...</td>\n",
       "      <td>2.0</td>\n",
       "    </tr>\n",
       "  </tbody>\n",
       "</table>\n",
       "</div>"
      ],
      "text/plain": [
       "                                            Comments  Average Score\n",
       "0  moved uk end august got virgin media broadband...            1.0\n",
       "1  truly attrocious service terms broadband custo...            1.0\n",
       "2  hard cancel contract. phone 2 hours t o spend ...            2.0\n",
       "3  pay 350mbps package managed 250mbps upload 34 ...            2.0\n",
       "4  worst customer service: -the bots ask irreleva...            2.0"
      ]
     },
     "execution_count": 9,
     "metadata": {},
     "output_type": "execute_result"
    }
   ],
   "source": [
    "df.drop(list(df.columns)[1:5], axis=1, inplace=True)\n",
    "df['Average Score']=df['Average Score'].round()\n",
    "df.head()\n"
   ]
  },
  {
   "cell_type": "code",
   "execution_count": 10,
   "metadata": {},
   "outputs": [],
   "source": [
    "import tensorflow_hub as hub\n",
    "import tensorflow as tf\n",
    "import numpy as np"
   ]
  },
  {
   "cell_type": "code",
   "execution_count": 11,
   "metadata": {},
   "outputs": [],
   "source": [
    "from sklearn.utils import shuffle\n",
    "df = shuffle(df)"
   ]
  },
  {
   "cell_type": "code",
   "execution_count": 12,
   "metadata": {},
   "outputs": [
    {
     "data": {
      "text/plain": [
       "2.0    2819\n",
       "1.0    1227\n",
       "3.0     275\n",
       "4.0      21\n",
       "Name: Average Score, dtype: int64"
      ]
     },
     "execution_count": 12,
     "metadata": {},
     "output_type": "execute_result"
    }
   ],
   "source": [
    "df[\"Average Score\"].value_counts()"
   ]
  },
  {
   "cell_type": "code",
   "execution_count": 13,
   "metadata": {},
   "outputs": [],
   "source": [
    "train, val, test = np.split(df.sample(frac=1), [int(0.8*len(df)), int(0.9 * len(df))])"
   ]
  },
  {
   "cell_type": "code",
   "execution_count": 14,
   "metadata": {},
   "outputs": [],
   "source": [
    "\n",
    "\n",
    "def df_to_dataset(data_df, shuffle=True, batch_size=10):\n",
    "    df=data_df.copy()\n",
    "    labels=df.pop(\"Average Score\")\n",
    "    df = df[\"Comments\"]\n",
    "    data_set = tf.data.Dataset.from_tensor_slices((df, labels))#create a tf data.dataset object with data and its labels\n",
    "    if shuffle:\n",
    "        data_set=data_set.shuffle(buffer_size=len(data_df))#shuffle data\n",
    "    data_set = data_set.batch(batch_size) #split dataset into batches of 10 and repeat process for num of epochs\n",
    "    data_set = data_set.prefetch(tf.data.AUTOTUNE)\n",
    "    return data_set\n",
    "\n"
   ]
  },
  {
   "cell_type": "code",
   "execution_count": 15,
   "metadata": {},
   "outputs": [],
   "source": [
    "\n",
    "\n",
    "train= df_to_dataset(train)\n",
    "valid= df_to_dataset(val)\n",
    "test= df_to_dataset(test)\n",
    "\n"
   ]
  },
  {
   "cell_type": "code",
   "execution_count": 16,
   "metadata": {},
   "outputs": [
    {
     "data": {
      "text/plain": [
       "(<tf.Tensor: shape=(10,), dtype=string, numpy=\n",
       " array([b'called virgin media problem broadband speeds i\\'m paying vip bundle package 80 pound month told there\\'s wrong broadband wasn\\'t willing help fix problem kept telling thing wouldn\\'t let speak kept talking telling don\\'t understand wifi works. i\\'m young adult know wifi works exactly. said said \"well know wifi fix problem\" i\\'m running speed tests reading 40mbps download speed upload speeds 20mbps speed tried telling kept talking naturally frustrated phone listening!! spoke manager took attitude start simply trying explain. asked speak boss went phone previous woman speaking said \"can speak boss please\"she said \"there boss\" lies obviously. wanted fix speed kept saying need lan cable shouldn\\'t lan cable. speeds reading 100mbps average lan cable considering package i\\'m on. friend virgin pay 30-50 pounds month getting 100mbps speed lan cable. overall virgin bad customer service. talk talks customer service better that\\'s saying something.',\n",
       "        b'absolutely dreadful service absolutely dreadful service. unable access email week. contacted virginmedia 3 times spending 2 hours phone cut problem resolved. told contacted 24 hours occasion did. access important documents information totally unacceptable. appalling service  avoid!!!',\n",
       "        b\"broadband wasn't working virgin media website doesn't issues reported called virgin media customer care informed network issue resolved 24 hours. issue exists 4 days. interestingly day called customer representative telling story. requested connect manager didn't it. mentioned manager back. waiting service issue resolved waiting manager's call.\",\n",
       "        b\"virgin media company completely useless!! looking broadband definitely competitors. virgin media care customer service quality service provide. surprised lost licence already. 6 months numerous calls texts don't recognised account useless company. favour company\",\n",
       "        b'concept customer service - customer wrong problem caused technicians. interested getting new customers hooked helping existing customers paying for. impossible real person wait technician arrive.... not!',\n",
       "        b'greedy. disconnection fee 240 . costumer service worst especially want leave. year prices double. greedy greedy unprofessional rude costumer service . worst avoid 0 star',\n",
       "        b'utter shambes. virgin updated systems knowing cause loss service generation loyal customers days ntl. prior warning. soon phoned explained needed new hub 10 days later continue fail send one. friday called explain allocate tracking number hub fobbed told sent weekend. needless monday tracking number allocated despite promise deliver today.in short contemptable customer service.',\n",
       "        b'switching talk talk virgin biggest mistake 2021. hot spotting months standard reason outage planned work. given work home think virgin prioritise reliability. think customers released contracts unable utilise service pay for!!! poor!!',\n",
       "        b\"virgin media years noticed past years virgin media service standard gone specially customer service nightmare. people think owning company. address changed year time informed them. asked explanation kept phone down. past couple months broad band speed gone like anything. month came equals 5 months bill. calls data charged extra.. counter sync phone's counter. charged service used. sir richard branson listening? needs worried customer service team. love talk don't want listen.. biggest mistake life calling them. probably busier people honorable prime minister.. truly horrible .\",\n",
       "        b'completely awful'], dtype=object)>,\n",
       " <tf.Tensor: shape=(10,), dtype=float64, numpy=array([2., 1., 2., 2., 2., 1., 2., 2., 2., 1.])>)"
      ]
     },
     "execution_count": 16,
     "metadata": {},
     "output_type": "execute_result"
    }
   ],
   "source": [
    "list(train)[0]  #tensor object converted to a list"
   ]
  },
  {
   "cell_type": "code",
   "execution_count": 17,
   "metadata": {},
   "outputs": [],
   "source": [
    "import tensorflow_hub as hub\n",
    "embedding = \"https://tfhub.dev/google/nnlm-en-dim50/2\"  #Token based text embedding trained on English Google News 7B corpus.\n"
   ]
  },
  {
   "cell_type": "code",
   "execution_count": 18,
   "metadata": {},
   "outputs": [
    {
     "name": "stdout",
     "output_type": "stream",
     "text": [
      "WARNING:tensorflow:Please fix your imports. Module tensorflow.python.training.tracking.data_structures has been moved to tensorflow.python.trackable.data_structures. The old module will be deleted in version 2.11.\n"
     ]
    }
   ],
   "source": [
    "\n",
    "\n",
    "embedding = \"https://tfhub.dev/google/nnlm-en-dim50/2\"  #Token based text embedding trained on English Google News 7B corpus.\n",
    "hub_layer = hub.KerasLayer(embedding, dtype=tf.string, trainable=True)\n",
    "\n"
   ]
  },
  {
   "cell_type": "code",
   "execution_count": 19,
   "metadata": {},
   "outputs": [],
   "source": [
    "callback = [tf.keras.callbacks.EarlyStopping(monitor='val_loss', patience=5),\n",
    "             tf.keras.callbacks.ModelCheckpoint(filepath='saved_model/hub_model.h5', monitor='val_loss', save_best_only=True)]"
   ]
  },
  {
   "cell_type": "code",
   "execution_count": 20,
   "metadata": {},
   "outputs": [],
   "source": [
    "model = tf.keras.Sequential()\n",
    "model.add(hub_layer) #embeds our words\n",
    "model.add(tf.keras.layers.Dense(16, activation=\"relu\")) #dense takes input from every preceding neuron\n",
    "model.add(tf.keras.layers.Dense(16, activation=\"relu\"))       \n",
    "model.add(tf.keras.layers.Dense(5, activation=\"softmax\"))"
   ]
  },
  {
   "cell_type": "code",
   "execution_count": 21,
   "metadata": {},
   "outputs": [],
   "source": [
    "model.compile(optimizer=tf.keras.optimizers.Adam(learning_rate=0.001), \n",
    "             loss = tf.keras.losses.SparseCategoricalCrossentropy(), #binarycross entropy as binary classification problem\n",
    "                metrics=[\"accuracy\"])"
   ]
  },
  {
   "cell_type": "code",
   "execution_count": 22,
   "metadata": {},
   "outputs": [
    {
     "name": "stdout",
     "output_type": "stream",
     "text": [
      "348/348 [==============================] - 2s 2ms/step - loss: 1.5800 - accuracy: 0.2177\n"
     ]
    },
    {
     "data": {
      "text/plain": [
       "[1.5800484418869019, 0.2176792472600937]"
      ]
     },
     "execution_count": 22,
     "metadata": {},
     "output_type": "execute_result"
    }
   ],
   "source": [
    "model.evaluate(train) #evaluate performance of model without training it first\n",
    "#accuracy is around 58%, loss is 0."
   ]
  },
  {
   "cell_type": "code",
   "execution_count": 24,
   "metadata": {},
   "outputs": [
    {
     "name": "stdout",
     "output_type": "stream",
     "text": [
      "Epoch 1/50\n",
      "348/348 [==============================] - 226s 648ms/step - loss: 0.8793 - accuracy: 0.6502 - val_loss: 0.8577 - val_accuracy: 0.6336\n",
      "Epoch 2/50\n",
      "348/348 [==============================] - 232s 666ms/step - loss: 0.7571 - accuracy: 0.6545 - val_loss: 0.9137 - val_accuracy: 0.6290\n",
      "Epoch 3/50\n",
      "348/348 [==============================] - 233s 671ms/step - loss: 0.5428 - accuracy: 0.7812 - val_loss: 1.2047 - val_accuracy: 0.5806\n",
      "Epoch 4/50\n",
      "348/348 [==============================] - 252s 726ms/step - loss: 0.2939 - accuracy: 0.8923 - val_loss: 1.7049 - val_accuracy: 0.5645\n",
      "Epoch 5/50\n",
      "348/348 [==============================] - 262s 753ms/step - loss: 0.1269 - accuracy: 0.9686 - val_loss: 2.3724 - val_accuracy: 0.5783\n",
      "Epoch 6/50\n",
      "348/348 [==============================] - 242s 694ms/step - loss: 0.0608 - accuracy: 0.9833 - val_loss: 2.4105 - val_accuracy: 0.5415\n"
     ]
    }
   ],
   "source": [
    "history=model.fit(train, epochs= 50, validation_data=valid, callbacks=[callback] )"
   ]
  },
  {
   "cell_type": "code",
   "execution_count": null,
   "metadata": {},
   "outputs": [],
   "source": [
    "import pickle"
   ]
  }
 ],
 "metadata": {
  "kernelspec": {
   "display_name": "Python 3.10.7 64-bit",
   "language": "python",
   "name": "python3"
  },
  "language_info": {
   "codemirror_mode": {
    "name": "ipython",
    "version": 3
   },
   "file_extension": ".py",
   "mimetype": "text/x-python",
   "name": "python",
   "nbconvert_exporter": "python",
   "pygments_lexer": "ipython3",
   "version": "3.10.7"
  },
  "orig_nbformat": 4,
  "vscode": {
   "interpreter": {
    "hash": "f3b44d0901b27b90b29836124934e882c64ed863e8408c20b31f73c13ca8ef04"
   }
  }
 },
 "nbformat": 4,
 "nbformat_minor": 2
}
